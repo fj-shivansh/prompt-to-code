{
 "cells": [
  {
   "cell_type": "markdown",
   "id": "c19bf2df",
   "metadata": {},
   "source": [
    "### Write code that calculates 10 day moving average for all tickers."
   ]
  },
  {
   "cell_type": "code",
   "execution_count": 5,
   "id": "f1472351",
   "metadata": {},
   "outputs": [
    {
     "name": "stdout",
     "output_type": "stream",
     "text": [
      "            Date Ticker   Adj_Close       MA_10\n",
      "0     2000-01-03   AAPL    0.840094    0.840094\n",
      "1     2000-01-04   AAPL    0.769266    0.804680\n",
      "2     2000-01-05   AAPL    0.780523    0.796628\n",
      "3     2000-01-06   AAPL    0.712978    0.775715\n",
      "4     2000-01-07   AAPL    0.746751    0.769922\n",
      "...          ...    ...         ...         ...\n",
      "19336 2025-08-14   NVDA  182.020004  180.370000\n",
      "19337 2025-08-15   NVDA  180.449997  181.042999\n",
      "19338 2025-08-18   NVDA  182.009995  181.243999\n",
      "19339 2025-08-19   NVDA  175.639999  180.981999\n",
      "19340 2025-08-20   NVDA  175.399994  180.579999\n",
      "\n",
      "[19341 rows x 4 columns]\n"
     ]
    }
   ],
   "source": [
    "#!/usr/bin/env python3\n",
    "import sqlite3\n",
    "import pandas as pd\n",
    "\n",
    "# Connect to database and load data\n",
    "conn = sqlite3.connect('historical_data.db')\n",
    "query = \"SELECT Date, Ticker, Adj_Close FROM stock_data WHERE Adj_Close IS NOT NULL\"\n",
    "df = pd.read_sql_query(query, conn)\n",
    "conn.close()\n",
    "\n",
    "# Ensure Date is a datetime type\n",
    "df['Date'] = pd.to_datetime(df['Date'])\n",
    "\n",
    "# Sort by ticker and date\n",
    "df = df.sort_values(['Ticker', 'Date'])\n",
    "\n",
    "# Calculate 10-day moving average for each ticker\n",
    "df['MA_10'] = df.groupby('Ticker')['Adj_Close'].transform(lambda x: x.rolling(window=10, min_periods=1).mean())\n",
    "\n",
    "# Print sample results\n",
    "print(df)\n"
   ]
  },
  {
   "cell_type": "markdown",
   "id": "1f75523e",
   "metadata": {},
   "source": [
    "### Write code that calculates the daily drawdown based on the past 250 days for all tickers."
   ]
  },
  {
   "cell_type": "code",
   "execution_count": 9,
   "id": "db58c4a0",
   "metadata": {},
   "outputs": [
    {
     "name": "stdout",
     "output_type": "stream",
     "text": [
      "            Date Ticker   Adj_Close  Drawdown_250\n",
      "0     2000-01-03   AAPL    0.840094      0.000000\n",
      "1     2000-01-04   AAPL    0.769266     -0.084310\n",
      "2     2000-01-05   AAPL    0.780523     -0.070911\n",
      "3     2000-01-06   AAPL    0.712978     -0.151312\n",
      "4     2000-01-07   AAPL    0.746751     -0.111111\n",
      "...          ...    ...         ...           ...\n",
      "19336 2025-08-14   NVDA  182.020004     -0.006224\n",
      "19337 2025-08-15   NVDA  180.449997     -0.014796\n",
      "19338 2025-08-18   NVDA  182.009995     -0.006279\n",
      "19339 2025-08-19   NVDA  175.639999     -0.041057\n",
      "19340 2025-08-20   NVDA  175.399994     -0.042367\n",
      "\n",
      "[19341 rows x 4 columns]\n"
     ]
    }
   ],
   "source": [
    "#!/usr/bin/env python3\n",
    "import sqlite3\n",
    "import pandas as pd\n",
    "\n",
    "# Connect to database and load data\n",
    "conn = sqlite3.connect('historical_data.db')\n",
    "query = \"SELECT Date, Ticker, Adj_Close FROM stock_data WHERE Adj_Close IS NOT NULL\"\n",
    "df = pd.read_sql_query(query, conn)\n",
    "conn.close()\n",
    "\n",
    "# Ensure Date is a datetime type\n",
    "df['Date'] = pd.to_datetime(df['Date'])\n",
    "\n",
    "# Sort by ticker and date\n",
    "df = df.sort_values(['Ticker', 'Date'])\n",
    "\n",
    "# Calculate 250-day drawdown for each ticker (for every day)\n",
    "def calc_drawdown(x):\n",
    "    rolling_peak = x.rolling(window=250, min_periods=1).max()\n",
    "    return (x - rolling_peak) / rolling_peak\n",
    "\n",
    "df['Drawdown_250'] = df.groupby('Ticker')['Adj_Close'].transform(calc_drawdown)\n",
    "\n",
    "# Print full results (for every day, every ticker)\n",
    "print(df)\n"
   ]
  },
  {
   "cell_type": "markdown",
   "id": "6dd72e81",
   "metadata": {},
   "source": [
    "### Write code that calculates the daily rate of change for each ticker and then computes the 10-day rolling average of the absolute values of the rate of change."
   ]
  },
  {
   "cell_type": "code",
   "execution_count": 13,
   "id": "3137f351",
   "metadata": {},
   "outputs": [
    {
     "name": "stdout",
     "output_type": "stream",
     "text": [
      "            Date Ticker   Adj_Close       ROC  AvgAbsROC_10\n",
      "0     2000-01-03   AAPL    0.840094       NaN           NaN\n",
      "1     2000-01-04   AAPL    0.769266 -0.084310      0.084310\n",
      "2     2000-01-05   AAPL    0.780523  0.014633      0.049472\n",
      "3     2000-01-06   AAPL    0.712978 -0.086538      0.061827\n",
      "4     2000-01-07   AAPL    0.746751  0.047369      0.058213\n",
      "...          ...    ...         ...       ...           ...\n",
      "19336 2025-08-14   NVDA  182.020004  0.002368      0.011434\n",
      "19337 2025-08-15   NVDA  180.449997 -0.008625      0.009964\n",
      "19338 2025-08-18   NVDA  182.009995  0.008645      0.007213\n",
      "19339 2025-08-19   NVDA  175.639999 -0.034998      0.009746\n",
      "19340 2025-08-20   NVDA  175.399994 -0.001366      0.009232\n",
      "\n",
      "[19341 rows x 5 columns]\n"
     ]
    }
   ],
   "source": [
    "#!/usr/bin/env python3\n",
    "import sqlite3\n",
    "import pandas as pd\n",
    "\n",
    "# Connect to database and load data\n",
    "conn = sqlite3.connect('historical_data.db')\n",
    "query = \"SELECT Date, Ticker, Adj_Close FROM stock_data WHERE Adj_Close IS NOT NULL\"\n",
    "df = pd.read_sql_query(query, conn)\n",
    "conn.close()\n",
    "\n",
    "# Ensure Date is a datetime type\n",
    "df['Date'] = pd.to_datetime(df['Date'])\n",
    "\n",
    "# Sort by ticker and date\n",
    "df = df.sort_values(['Ticker', 'Date'])\n",
    "\n",
    "# Calculate daily rate of change (ROC)\n",
    "df['ROC'] = df.groupby('Ticker')['Adj_Close'].pct_change()\n",
    "\n",
    "# Calculate 10-day average absolute ROC\n",
    "df['AvgAbsROC_10'] = df.groupby('Ticker')['ROC'].transform(lambda x: x.abs().rolling(window=10, min_periods=1).mean())\n",
    "\n",
    "# Print final consolidated results\n",
    "print(df)\n"
   ]
  },
  {
   "cell_type": "code",
   "execution_count": null,
   "id": "a9344e5b",
   "metadata": {},
   "outputs": [],
   "source": []
  }
 ],
 "metadata": {
  "kernelspec": {
   "display_name": "Python 3",
   "language": "python",
   "name": "python3"
  },
  "language_info": {
   "codemirror_mode": {
    "name": "ipython",
    "version": 3
   },
   "file_extension": ".py",
   "mimetype": "text/x-python",
   "name": "python",
   "nbconvert_exporter": "python",
   "pygments_lexer": "ipython3",
   "version": "3.13.3"
  }
 },
 "nbformat": 4,
 "nbformat_minor": 5
}
